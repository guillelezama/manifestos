{
 "cells": [
  {
   "cell_type": "markdown",
   "metadata": {
    "id": "ONtYoQdj7Qdw"
   },
   "source": [
    "# Classification with OpenAI\n",
    "This notebook walks through the steps I took to classify the corpus, including:\n",
    "\n",
    "1. Data preparation.\n",
    "2. Use of the OpenAI API to classify the texts (following previous work, see: https://guillelezama.com/publication/pela/ and https://guillelezama.com/publication/immigration/)"
   ]
  },
  {
   "cell_type": "code",
   "execution_count": 1,
   "metadata": {
    "colab": {
     "base_uri": "https://localhost:8080/"
    },
    "executionInfo": {
     "elapsed": 5612,
     "status": "ok",
     "timestamp": 1737693220010,
     "user": {
      "displayName": "Guillermo Lezama",
      "userId": "17067344961324283134"
     },
     "user_tz": 300
    },
    "id": "nniw7Hng-Lho",
    "outputId": "218d6a79-151c-45ca-8eee-1f3bac280b41"
   },
   "outputs": [
    {
     "name": "stdout",
     "output_type": "stream",
     "text": [
      "Requirement already satisfied: openai in /usr/local/lib/python3.11/dist-packages (1.59.6)\n",
      "Requirement already satisfied: anyio<5,>=3.5.0 in /usr/local/lib/python3.11/dist-packages (from openai) (3.7.1)\n",
      "Requirement already satisfied: distro<2,>=1.7.0 in /usr/local/lib/python3.11/dist-packages (from openai) (1.9.0)\n",
      "Requirement already satisfied: httpx<1,>=0.23.0 in /usr/local/lib/python3.11/dist-packages (from openai) (0.28.1)\n",
      "Requirement already satisfied: jiter<1,>=0.4.0 in /usr/local/lib/python3.11/dist-packages (from openai) (0.8.2)\n",
      "Requirement already satisfied: pydantic<3,>=1.9.0 in /usr/local/lib/python3.11/dist-packages (from openai) (2.10.5)\n",
      "Requirement already satisfied: sniffio in /usr/local/lib/python3.11/dist-packages (from openai) (1.3.1)\n",
      "Requirement already satisfied: tqdm>4 in /usr/local/lib/python3.11/dist-packages (from openai) (4.67.1)\n",
      "Requirement already satisfied: typing-extensions<5,>=4.11 in /usr/local/lib/python3.11/dist-packages (from openai) (4.12.2)\n",
      "Requirement already satisfied: idna>=2.8 in /usr/local/lib/python3.11/dist-packages (from anyio<5,>=3.5.0->openai) (3.10)\n",
      "Requirement already satisfied: certifi in /usr/local/lib/python3.11/dist-packages (from httpx<1,>=0.23.0->openai) (2024.12.14)\n",
      "Requirement already satisfied: httpcore==1.* in /usr/local/lib/python3.11/dist-packages (from httpx<1,>=0.23.0->openai) (1.0.7)\n",
      "Requirement already satisfied: h11<0.15,>=0.13 in /usr/local/lib/python3.11/dist-packages (from httpcore==1.*->httpx<1,>=0.23.0->openai) (0.14.0)\n",
      "Requirement already satisfied: annotated-types>=0.6.0 in /usr/local/lib/python3.11/dist-packages (from pydantic<3,>=1.9.0->openai) (0.7.0)\n",
      "Requirement already satisfied: pydantic-core==2.27.2 in /usr/local/lib/python3.11/dist-packages (from pydantic<3,>=1.9.0->openai) (2.27.2)\n"
     ]
    }
   ],
   "source": [
    "!pip install openai"
   ]
  },
  {
   "cell_type": "code",
   "execution_count": 2,
   "metadata": {
    "executionInfo": {
     "elapsed": 3116,
     "status": "ok",
     "timestamp": 1737693223123,
     "user": {
      "displayName": "Guillermo Lezama",
      "userId": "17067344961324283134"
     },
     "user_tz": 300
    },
    "id": "vcQwLUp4-Nuo"
   },
   "outputs": [],
   "source": [
    "import openai\n",
    "import pandas as pd\n",
    "import time"
   ]
  },
  {
   "cell_type": "code",
   "execution_count": 3,
   "metadata": {
    "colab": {
     "base_uri": "https://localhost:8080/"
    },
    "executionInfo": {
     "elapsed": 24389,
     "status": "ok",
     "timestamp": 1737693247509,
     "user": {
      "displayName": "Guillermo Lezama",
      "userId": "17067344961324283134"
     },
     "user_tz": 300
    },
    "id": "xPP0y53P-POP",
    "outputId": "00ffb515-0ce3-4fb5-888d-d25256f6816f"
   },
   "outputs": [
    {
     "name": "stdout",
     "output_type": "stream",
     "text": [
      "Mounted at /content/drive\n"
     ]
    }
   ],
   "source": [
    "from google.colab import drive\n",
    "drive.mount(\"/content/drive\", force_remount=True)"
   ]
  },
  {
   "cell_type": "code",
   "execution_count": 4,
   "metadata": {
    "executionInfo": {
     "elapsed": 3,
     "status": "ok",
     "timestamp": 1737693247509,
     "user": {
      "displayName": "Guillermo Lezama",
      "userId": "17067344961324283134"
     },
     "user_tz": 300
    },
    "id": "irEgh2HB-Qhn"
   },
   "outputs": [],
   "source": [
    "folder="
   ]
  },
  {
   "cell_type": "code",
   "execution_count": 5,
   "metadata": {
    "executionInfo": {
     "elapsed": 3,
     "status": "ok",
     "timestamp": 1737693247509,
     "user": {
      "displayName": "Guillermo Lezama",
      "userId": "17067344961324283134"
     },
     "user_tz": 300
    },
    "id": "o6RyG6iv-TKm"
   },
   "outputs": [],
   "source": [
    "# Set the OpenAI API key\n",
    "openai.api_key = "
   ]
  },
  {
   "cell_type": "code",
   "execution_count": 6,
   "metadata": {
    "colab": {
     "base_uri": "https://localhost:8080/",
     "height": 206
    },
    "executionInfo": {
     "elapsed": 2348,
     "status": "ok",
     "timestamp": 1737693249855,
     "user": {
      "displayName": "Guillermo Lezama",
      "userId": "17067344961324283134"
     },
     "user_tz": 300
    },
    "id": "ZXrkO8kl-Zu-",
    "outputId": "bc3e3234-3371-4f74-c7bc-1a129294f661"
   },
   "outputs": [
    {
     "data": {
      "application/vnd.google.colaboratory.intrinsic+json": {
       "summary": "{\n  \"name\": \"df\",\n  \"rows\": 6149,\n  \"fields\": [\n    {\n      \"column\": \"text\",\n      \"properties\": {\n        \"dtype\": \"string\",\n        \"num_unique_values\": 5779,\n        \"samples\": [\n          \"-  devido  ao  destaque  do  Projeto  Alfabetiza\\u00e7\\u00e3o  de  Jovens  e  Adultos  o  Munic\\u00edpio  de \",\n          \"- Cria\\u00e7\\u00e3o do Grupo de Teatro com crian\\u00e7as da rede p\\u00fablica de ensino \",\n          \" dirijo-me a todo o povo \"\n        ],\n        \"semantic_type\": \"\",\n        \"description\": \"\"\n      }\n    },\n    {\n      \"column\": \"top\",\n      \"properties\": {\n        \"dtype\": \"number\",\n        \"std\": 2,\n        \"min\": 0,\n        \"max\": 8,\n        \"num_unique_values\": 9,\n        \"samples\": [\n          1,\n          4,\n          7\n        ],\n        \"semantic_type\": \"\",\n        \"description\": \"\"\n      }\n    }\n  ]\n}",
       "type": "dataframe",
       "variable_name": "df"
      },
      "text/html": [
       "\n",
       "  <div id=\"df-0b678cdb-0ced-465e-8a75-4774fd2aaa3f\" class=\"colab-df-container\">\n",
       "    <div>\n",
       "<style scoped>\n",
       "    .dataframe tbody tr th:only-of-type {\n",
       "        vertical-align: middle;\n",
       "    }\n",
       "\n",
       "    .dataframe tbody tr th {\n",
       "        vertical-align: top;\n",
       "    }\n",
       "\n",
       "    .dataframe thead th {\n",
       "        text-align: right;\n",
       "    }\n",
       "</style>\n",
       "<table border=\"1\" class=\"dataframe\">\n",
       "  <thead>\n",
       "    <tr style=\"text-align: right;\">\n",
       "      <th></th>\n",
       "      <th>text</th>\n",
       "      <th>top</th>\n",
       "    </tr>\n",
       "  </thead>\n",
       "  <tbody>\n",
       "    <tr>\n",
       "      <th>963</th>\n",
       "      <td>A defesa das terras e da cultura indígena é u...</td>\n",
       "      <td>0</td>\n",
       "    </tr>\n",
       "    <tr>\n",
       "      <th>1114</th>\n",
       "      <td>Concretizar a gestão democrática através da pa...</td>\n",
       "      <td>4</td>\n",
       "    </tr>\n",
       "    <tr>\n",
       "      <th>21784</th>\n",
       "      <td>Programar as ações do Programa Saúde da Fam...</td>\n",
       "      <td>5</td>\n",
       "    </tr>\n",
       "    <tr>\n",
       "      <th>24017</th>\n",
       "      <td>Diretrizes  Orçamentárias  o  Orçamento  Anual...</td>\n",
       "      <td>3</td>\n",
       "    </tr>\n",
       "    <tr>\n",
       "      <th>1475</th>\n",
       "      <td> Contratar mais médicos clínicos geral</td>\n",
       "      <td>5</td>\n",
       "    </tr>\n",
       "  </tbody>\n",
       "</table>\n",
       "</div>\n",
       "    <div class=\"colab-df-buttons\">\n",
       "\n",
       "  <div class=\"colab-df-container\">\n",
       "    <button class=\"colab-df-convert\" onclick=\"convertToInteractive('df-0b678cdb-0ced-465e-8a75-4774fd2aaa3f')\"\n",
       "            title=\"Convert this dataframe to an interactive table.\"\n",
       "            style=\"display:none;\">\n",
       "\n",
       "  <svg xmlns=\"http://www.w3.org/2000/svg\" height=\"24px\" viewBox=\"0 -960 960 960\">\n",
       "    <path d=\"M120-120v-720h720v720H120Zm60-500h600v-160H180v160Zm220 220h160v-160H400v160Zm0 220h160v-160H400v160ZM180-400h160v-160H180v160Zm440 0h160v-160H620v160ZM180-180h160v-160H180v160Zm440 0h160v-160H620v160Z\"/>\n",
       "  </svg>\n",
       "    </button>\n",
       "\n",
       "  <style>\n",
       "    .colab-df-container {\n",
       "      display:flex;\n",
       "      gap: 12px;\n",
       "    }\n",
       "\n",
       "    .colab-df-convert {\n",
       "      background-color: #E8F0FE;\n",
       "      border: none;\n",
       "      border-radius: 50%;\n",
       "      cursor: pointer;\n",
       "      display: none;\n",
       "      fill: #1967D2;\n",
       "      height: 32px;\n",
       "      padding: 0 0 0 0;\n",
       "      width: 32px;\n",
       "    }\n",
       "\n",
       "    .colab-df-convert:hover {\n",
       "      background-color: #E2EBFA;\n",
       "      box-shadow: 0px 1px 2px rgba(60, 64, 67, 0.3), 0px 1px 3px 1px rgba(60, 64, 67, 0.15);\n",
       "      fill: #174EA6;\n",
       "    }\n",
       "\n",
       "    .colab-df-buttons div {\n",
       "      margin-bottom: 4px;\n",
       "    }\n",
       "\n",
       "    [theme=dark] .colab-df-convert {\n",
       "      background-color: #3B4455;\n",
       "      fill: #D2E3FC;\n",
       "    }\n",
       "\n",
       "    [theme=dark] .colab-df-convert:hover {\n",
       "      background-color: #434B5C;\n",
       "      box-shadow: 0px 1px 3px 1px rgba(0, 0, 0, 0.15);\n",
       "      filter: drop-shadow(0px 1px 2px rgba(0, 0, 0, 0.3));\n",
       "      fill: #FFFFFF;\n",
       "    }\n",
       "  </style>\n",
       "\n",
       "    <script>\n",
       "      const buttonEl =\n",
       "        document.querySelector('#df-0b678cdb-0ced-465e-8a75-4774fd2aaa3f button.colab-df-convert');\n",
       "      buttonEl.style.display =\n",
       "        google.colab.kernel.accessAllowed ? 'block' : 'none';\n",
       "\n",
       "      async function convertToInteractive(key) {\n",
       "        const element = document.querySelector('#df-0b678cdb-0ced-465e-8a75-4774fd2aaa3f');\n",
       "        const dataTable =\n",
       "          await google.colab.kernel.invokeFunction('convertToInteractive',\n",
       "                                                    [key], {});\n",
       "        if (!dataTable) return;\n",
       "\n",
       "        const docLinkHtml = 'Like what you see? Visit the ' +\n",
       "          '<a target=\"_blank\" href=https://colab.research.google.com/notebooks/data_table.ipynb>data table notebook</a>'\n",
       "          + ' to learn more about interactive tables.';\n",
       "        element.innerHTML = '';\n",
       "        dataTable['output_type'] = 'display_data';\n",
       "        await google.colab.output.renderOutput(dataTable, element);\n",
       "        const docLink = document.createElement('div');\n",
       "        docLink.innerHTML = docLinkHtml;\n",
       "        element.appendChild(docLink);\n",
       "      }\n",
       "    </script>\n",
       "  </div>\n",
       "\n",
       "\n",
       "<div id=\"df-98742ec2-5657-43d1-bd91-5e5467839f70\">\n",
       "  <button class=\"colab-df-quickchart\" onclick=\"quickchart('df-98742ec2-5657-43d1-bd91-5e5467839f70')\"\n",
       "            title=\"Suggest charts\"\n",
       "            style=\"display:none;\">\n",
       "\n",
       "<svg xmlns=\"http://www.w3.org/2000/svg\" height=\"24px\"viewBox=\"0 0 24 24\"\n",
       "     width=\"24px\">\n",
       "    <g>\n",
       "        <path d=\"M19 3H5c-1.1 0-2 .9-2 2v14c0 1.1.9 2 2 2h14c1.1 0 2-.9 2-2V5c0-1.1-.9-2-2-2zM9 17H7v-7h2v7zm4 0h-2V7h2v10zm4 0h-2v-4h2v4z\"/>\n",
       "    </g>\n",
       "</svg>\n",
       "  </button>\n",
       "\n",
       "<style>\n",
       "  .colab-df-quickchart {\n",
       "      --bg-color: #E8F0FE;\n",
       "      --fill-color: #1967D2;\n",
       "      --hover-bg-color: #E2EBFA;\n",
       "      --hover-fill-color: #174EA6;\n",
       "      --disabled-fill-color: #AAA;\n",
       "      --disabled-bg-color: #DDD;\n",
       "  }\n",
       "\n",
       "  [theme=dark] .colab-df-quickchart {\n",
       "      --bg-color: #3B4455;\n",
       "      --fill-color: #D2E3FC;\n",
       "      --hover-bg-color: #434B5C;\n",
       "      --hover-fill-color: #FFFFFF;\n",
       "      --disabled-bg-color: #3B4455;\n",
       "      --disabled-fill-color: #666;\n",
       "  }\n",
       "\n",
       "  .colab-df-quickchart {\n",
       "    background-color: var(--bg-color);\n",
       "    border: none;\n",
       "    border-radius: 50%;\n",
       "    cursor: pointer;\n",
       "    display: none;\n",
       "    fill: var(--fill-color);\n",
       "    height: 32px;\n",
       "    padding: 0;\n",
       "    width: 32px;\n",
       "  }\n",
       "\n",
       "  .colab-df-quickchart:hover {\n",
       "    background-color: var(--hover-bg-color);\n",
       "    box-shadow: 0 1px 2px rgba(60, 64, 67, 0.3), 0 1px 3px 1px rgba(60, 64, 67, 0.15);\n",
       "    fill: var(--button-hover-fill-color);\n",
       "  }\n",
       "\n",
       "  .colab-df-quickchart-complete:disabled,\n",
       "  .colab-df-quickchart-complete:disabled:hover {\n",
       "    background-color: var(--disabled-bg-color);\n",
       "    fill: var(--disabled-fill-color);\n",
       "    box-shadow: none;\n",
       "  }\n",
       "\n",
       "  .colab-df-spinner {\n",
       "    border: 2px solid var(--fill-color);\n",
       "    border-color: transparent;\n",
       "    border-bottom-color: var(--fill-color);\n",
       "    animation:\n",
       "      spin 1s steps(1) infinite;\n",
       "  }\n",
       "\n",
       "  @keyframes spin {\n",
       "    0% {\n",
       "      border-color: transparent;\n",
       "      border-bottom-color: var(--fill-color);\n",
       "      border-left-color: var(--fill-color);\n",
       "    }\n",
       "    20% {\n",
       "      border-color: transparent;\n",
       "      border-left-color: var(--fill-color);\n",
       "      border-top-color: var(--fill-color);\n",
       "    }\n",
       "    30% {\n",
       "      border-color: transparent;\n",
       "      border-left-color: var(--fill-color);\n",
       "      border-top-color: var(--fill-color);\n",
       "      border-right-color: var(--fill-color);\n",
       "    }\n",
       "    40% {\n",
       "      border-color: transparent;\n",
       "      border-right-color: var(--fill-color);\n",
       "      border-top-color: var(--fill-color);\n",
       "    }\n",
       "    60% {\n",
       "      border-color: transparent;\n",
       "      border-right-color: var(--fill-color);\n",
       "    }\n",
       "    80% {\n",
       "      border-color: transparent;\n",
       "      border-right-color: var(--fill-color);\n",
       "      border-bottom-color: var(--fill-color);\n",
       "    }\n",
       "    90% {\n",
       "      border-color: transparent;\n",
       "      border-bottom-color: var(--fill-color);\n",
       "    }\n",
       "  }\n",
       "</style>\n",
       "\n",
       "  <script>\n",
       "    async function quickchart(key) {\n",
       "      const quickchartButtonEl =\n",
       "        document.querySelector('#' + key + ' button');\n",
       "      quickchartButtonEl.disabled = true;  // To prevent multiple clicks.\n",
       "      quickchartButtonEl.classList.add('colab-df-spinner');\n",
       "      try {\n",
       "        const charts = await google.colab.kernel.invokeFunction(\n",
       "            'suggestCharts', [key], {});\n",
       "      } catch (error) {\n",
       "        console.error('Error during call to suggestCharts:', error);\n",
       "      }\n",
       "      quickchartButtonEl.classList.remove('colab-df-spinner');\n",
       "      quickchartButtonEl.classList.add('colab-df-quickchart-complete');\n",
       "    }\n",
       "    (() => {\n",
       "      let quickchartButtonEl =\n",
       "        document.querySelector('#df-98742ec2-5657-43d1-bd91-5e5467839f70 button');\n",
       "      quickchartButtonEl.style.display =\n",
       "        google.colab.kernel.accessAllowed ? 'block' : 'none';\n",
       "    })();\n",
       "  </script>\n",
       "</div>\n",
       "\n",
       "    </div>\n",
       "  </div>\n"
      ],
      "text/plain": [
       "                                                    text  top\n",
       "963     A defesa das terras e da cultura indígena é u...    0\n",
       "1114   Concretizar a gestão democrática através da pa...    4\n",
       "21784     Programar as ações do Programa Saúde da Fam...    5\n",
       "24017  Diretrizes  Orçamentárias  o  Orçamento  Anual...    3\n",
       "1475              Contratar mais médicos clínicos geral    5"
      ]
     },
     "execution_count": 6,
     "metadata": {},
     "output_type": "execute_result"
    }
   ],
   "source": [
    "df=pd.read_csv(folder+\"test_data_for_openAI.csv\", index_col='Unnamed: 0')\n",
    "df.head()"
   ]
  },
  {
   "cell_type": "code",
   "execution_count": 7,
   "metadata": {
    "executionInfo": {
     "elapsed": 3,
     "status": "ok",
     "timestamp": 1737693249855,
     "user": {
      "displayName": "Guillermo Lezama",
      "userId": "17067344961324283134"
     },
     "user_tz": 300
    },
    "id": "tdFE4HER-f8v"
   },
   "outputs": [],
   "source": [
    "# Define the categories with descriptions of what they encompass\n",
    "categories = {\n",
    "    \"Titulo\": \"Sentences that contain or reference the title of a document or section.\",\n",
    "    \"Introduccion\": \"Sentences that introduce a topic, provide an overview, or set the stage for the content.\",\n",
    "    \"Servidores Publicos\": \"Sentences related to public servants, government administration, participation in governance, or public finance.\",\n",
    "    \"Educacion y Deportes\": \"Sentences about education, culture, sports, tourism, or social policies related to youth, gender, or social development.\",\n",
    "    \"Salud\": \"Sentences specifically related to healthcare, public health policies, or medical services.\",\n",
    "    \"Transporte\": \"Sentences referring to transportation, infrastructure, urban development, housing, sanitation, or disaster management.\",\n",
    "    \"Ambiente y Agricultura\": \"Sentences related to environmental issues, agriculture, rural development, sustainable development, or economic production.\",\n",
    "    \"Trash\": \"Sentences that are empty, nonsensical, or don't provide any valuable information.\",\n",
    "    \"Seguridad\": \"Sentences related to security, law enforcement, or public safety.\",\n",
    "    \"Other\": \"Sentences that don’t fit into any other categories, including events, funerals, communication, religion, or miscellaneous topics.\"\n",
    "}"
   ]
  },
  {
   "cell_type": "code",
   "execution_count": 8,
   "metadata": {
    "executionInfo": {
     "elapsed": 3,
     "status": "ok",
     "timestamp": 1737693249855,
     "user": {
      "displayName": "Guillermo Lezama",
      "userId": "17067344961324283134"
     },
     "user_tz": 300
    },
    "id": "kMsGg2Lx_gw4"
   },
   "outputs": [],
   "source": [
    "# Get a series with the texts to classify.\n",
    "X_test=df['text']"
   ]
  },
  {
   "cell_type": "code",
   "execution_count": 9,
   "metadata": {
    "colab": {
     "base_uri": "https://localhost:8080/"
    },
    "executionInfo": {
     "elapsed": 68259,
     "status": "ok",
     "timestamp": 1737697123134,
     "user": {
      "displayName": "Guillermo Lezama",
      "userId": "17067344961324283134"
     },
     "user_tz": 300
    },
    "id": "DPuH7xqg-uHg",
    "outputId": "86e0b42c-6716-450b-ab4f-778301ab593c"
   },
   "outputs": [
    {
     "name": "stdout",
     "output_type": "stream",
     "text": [
      "100 sentences classified so far.\n",
      "200 sentences classified so far.\n",
      "300 sentences classified so far.\n",
      "400 sentences classified so far.\n",
      "500 sentences classified so far.\n",
      "600 sentences classified so far.\n",
      "700 sentences classified so far.\n",
      "800 sentences classified so far.\n",
      "900 sentences classified so far.\n",
      "1000 sentences classified so far.\n",
      "1100 sentences classified so far.\n",
      "1200 sentences classified so far.\n",
      "1300 sentences classified so far.\n",
      "1400 sentences classified so far.\n",
      "1500 sentences classified so far.\n",
      "1600 sentences classified so far.\n",
      "1700 sentences classified so far.\n",
      "1800 sentences classified so far.\n",
      "1900 sentences classified so far.\n",
      "2000 sentences classified so far.\n",
      "2100 sentences classified so far.\n",
      "2200 sentences classified so far.\n",
      "2300 sentences classified so far.\n",
      "2400 sentences classified so far.\n",
      "2500 sentences classified so far.\n",
      "2600 sentences classified so far.\n",
      "2700 sentences classified so far.\n",
      "2800 sentences classified so far.\n",
      "2900 sentences classified so far.\n",
      "3000 sentences classified so far.\n",
      "3100 sentences classified so far.\n",
      "3200 sentences classified so far.\n",
      "3300 sentences classified so far.\n",
      "3400 sentences classified so far.\n",
      "3500 sentences classified so far.\n",
      "3600 sentences classified so far.\n",
      "3700 sentences classified so far.\n",
      "3800 sentences classified so far.\n",
      "3900 sentences classified so far.\n",
      "4000 sentences classified so far.\n",
      "4100 sentences classified so far.\n",
      "4200 sentences classified so far.\n",
      "4300 sentences classified so far.\n",
      "4400 sentences classified so far.\n",
      "4500 sentences classified so far.\n",
      "4600 sentences classified so far.\n",
      "4700 sentences classified so far.\n",
      "4800 sentences classified so far.\n",
      "4900 sentences classified so far.\n",
      "5000 sentences classified so far.\n",
      "5100 sentences classified so far.\n",
      "5200 sentences classified so far.\n",
      "5300 sentences classified so far.\n",
      "5400 sentences classified so far.\n",
      "5500 sentences classified so far.\n",
      "5600 sentences classified so far.\n",
      "5700 sentences classified so far.\n",
      "5800 sentences classified so far.\n",
      "5900 sentences classified so far.\n",
      "6000 sentences classified so far.\n",
      "6100 sentences classified so far.\n",
      "Classification process completed in 3872.42 seconds.\n"
     ]
    }
   ],
   "source": [
    "# List to store predictions\n",
    "predictions_open_AI = []\n",
    "start_time = time.time()\n",
    "\n",
    "# Loop to classify each sentence\n",
    "for idx, sentence in enumerate(X_test):\n",
    "    # Create the classification prompt for the model\n",
    "    category_prompt = (\n",
    "        f\"Classify the following sentence into one of the categories: {', '.join(categories.keys())}.\\n\\n\"\n",
    "        f\"Category descriptions:\\n\"\n",
    "    )\n",
    "\n",
    "    # Append the category descriptions to the prompt\n",
    "    for category, description in categories.items():\n",
    "        category_prompt += f\"{category}: {description}\\n\"\n",
    "\n",
    "    # Add the sentence to classify\n",
    "    category_prompt += f\"\\nSentence: {sentence}\\n\\nCategory:\"\n",
    "\n",
    "    try:\n",
    "        # Generate a completion (prediction) using the OpenAI API\n",
    "        category_response = openai.chat.completions.create(\n",
    "            model=\"gpt-4o-mini-2024-07-18\",  # Keeping the original model name\n",
    "            messages=[\n",
    "                {\"role\": \"system\", \"content\": \"You are an assistant that helps categorize sentences or lines of manifestos. These are manifestos for the mayor position in Brazil in 2012. The output should be the category title that better categorizes the proposed sentence.\"},\n",
    "                {\"role\": \"user\", \"content\": category_prompt}\n",
    "            ],\n",
    "            temperature=0.1,\n",
    "            max_tokens=5,\n",
    "        )\n",
    "\n",
    "        # Extract the predicted category from the response\n",
    "        category = category_response.choices[0].message.content\n",
    "\n",
    "        # Append the prediction to the list\n",
    "        predictions_open_AI.append(category)\n",
    "\n",
    "        if (idx + 1) % 100 == 0:\n",
    "            print(f\"{idx + 1} sentences classified so far.\")\n",
    "    except Exception as e:\n",
    "        print(f\"Error during prediction: {e}\")\n",
    "        predictions_open_AI.append(\"Error\")\n",
    "end_time = time.time()\n",
    "print(f\"Classification process completed in {end_time - start_time:.2f} seconds.\")"
   ]
  },
  {
   "cell_type": "code",
   "execution_count": 10,
   "metadata": {
    "executionInfo": {
     "elapsed": 330,
     "status": "ok",
     "timestamp": 1737697123136,
     "user": {
      "displayName": "Guillermo Lezama",
      "userId": "17067344961324283134"
     },
     "user_tz": 300
    },
    "id": "nEBfi51EL7KZ"
   },
   "outputs": [],
   "source": [
    "df=pd.concat([df[['text','top']].reset_index(),pd.DataFrame(predictions_open_AI, columns=['OpenAI'])], axis=1)"
   ]
  },
  {
   "cell_type": "code",
   "execution_count": 11,
   "metadata": {
    "colab": {
     "base_uri": "https://localhost:8080/"
    },
    "executionInfo": {
     "elapsed": 331,
     "status": "ok",
     "timestamp": 1737697123137,
     "user": {
      "displayName": "Guillermo Lezama",
      "userId": "17067344961324283134"
     },
     "user_tz": 300
    },
    "id": "9VxhKW7gpWMS",
    "outputId": "cb7c4161-2e6b-48b3-ae99-0b512ec7da70"
   },
   "outputs": [
    {
     "data": {
      "text/plain": [
       "array(['Ambiente y Agricultura', 'Servidores Publicos', 'Salud',\n",
       "       'Educacion y Deportes', 'Seguridad', 'Other', 'Trash', 'Titulo',\n",
       "       'Transporte', 'Introduccion'], dtype=object)"
      ]
     },
     "execution_count": 11,
     "metadata": {},
     "output_type": "execute_result"
    }
   ],
   "source": [
    "df['OpenAI'].unique()"
   ]
  },
  {
   "cell_type": "code",
   "execution_count": 12,
   "metadata": {
    "executionInfo": {
     "elapsed": 462,
     "status": "ok",
     "timestamp": 1737697123595,
     "user": {
      "displayName": "Guillermo Lezama",
      "userId": "17067344961324283134"
     },
     "user_tz": 300
    },
    "id": "c2xCKbQqMw6y"
   },
   "outputs": [],
   "source": [
    "df.to_csv(folder+\"test_data_for_openAI_predictions.csv\")"
   ]
  },
  {
   "cell_type": "code",
   "execution_count": 12,
   "metadata": {
    "executionInfo": {
     "elapsed": 1,
     "status": "ok",
     "timestamp": 1737697123596,
     "user": {
      "displayName": "Guillermo Lezama",
      "userId": "17067344961324283134"
     },
     "user_tz": 300
    },
    "id": "P_dE6ATNM7JJ"
   },
   "outputs": [],
   "source": []
  }
 ],
 "metadata": {
  "colab": {
   "authorship_tag": "ABX9TyPGpV0VVCi7Ec5OX82sGbAy",
   "provenance": []
  },
  "kernelspec": {
   "display_name": "Python 3 (ipykernel)",
   "language": "python",
   "name": "python3"
  },
  "language_info": {
   "codemirror_mode": {
    "name": "ipython",
    "version": 3
   },
   "file_extension": ".py",
   "mimetype": "text/x-python",
   "name": "python",
   "nbconvert_exporter": "python",
   "pygments_lexer": "ipython3",
   "version": "3.11.3"
  }
 },
 "nbformat": 4,
 "nbformat_minor": 1
}
